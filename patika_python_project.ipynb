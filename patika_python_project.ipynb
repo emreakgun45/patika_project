{
 "cells": [
  {
   "cell_type": "code",
   "execution_count": 1,
   "metadata": {},
   "outputs": [
    {
     "name": "stdout",
     "output_type": "stream",
     "text": [
      "Example list:   [['b', 6, [15], 'bird'], [[[25]], 'frog'], 7, 8]\n",
      "Flattened list: ['b', 6, 15, 'bird', 25, 'frog', 7, 8]\n"
     ]
    }
   ],
   "source": [
    "# NOTE >> 1st question\n",
    "\n",
    "def flattenList(f_list):\n",
    "    \n",
    "    while True:\n",
    "        flattenlist = []\n",
    "            \n",
    "        for element in f_list:\n",
    "            if type(element) != list:\n",
    "                flattenlist.append(element)\n",
    "            else:\n",
    "                for item in element:\n",
    "                    flattenlist.append(item)\n",
    "        f_list = flattenlist\n",
    "        \n",
    "        listTypes = []\n",
    "        for element in f_list:\n",
    "            listTypes.append(type(element))\n",
    "        if list not in listTypes:\n",
    "            break\n",
    "\n",
    "    return f_list\n",
    "    \n",
    "exampleList = [['b',6,[15],'bird'],[[[25]],'frog'],7,8]\n",
    "\n",
    "print(f\"Example list:   {exampleList}\")\n",
    "print(f\"Flattened list: {flattenList(exampleList)}\")"
   ]
  },
  {
   "cell_type": "code",
   "execution_count": 2,
   "metadata": {},
   "outputs": [
    {
     "name": "stdout",
     "output_type": "stream",
     "text": [
      "Example list: [[100, 90], [80, 70], [60, 50, 70]]\n",
      "Reversed list: [[70, 50, 60], [70, 80], [90, 100]]\n"
     ]
    }
   ],
   "source": [
    "\n",
    "# NOTE >> 2nd Question\n",
    "\n",
    "def reverseList(r_List):\n",
    "    \n",
    "    newList = []\n",
    "    \n",
    "    for element in r_List[::-1]:\n",
    "        if type(element) == list:\n",
    "            newList.append(element[::-1])\n",
    "        else:\n",
    "            newList.append(element)\n",
    "            \n",
    "    return newList\n",
    "    \n",
    "exampleList = [[100, 90], [80, 70], [60, 50, 70]]\n",
    "\n",
    "print(f\"Example list: {exampleList}\")\n",
    "print(f\"Reversed list: {reverseList(exampleList)}\")"
   ]
  }
 ],
 "metadata": {
  "interpreter": {
   "hash": "916dbcbb3f70747c44a77c7bcd40155683ae19c65e1c03b4aa3499c5328201f1"
  },
  "kernelspec": {
   "display_name": "Python 3.8.10 64-bit",
   "language": "python",
   "name": "python3"
  },
  "language_info": {
   "codemirror_mode": {
    "name": "ipython",
    "version": 3
   },
   "file_extension": ".py",
   "mimetype": "text/x-python",
   "name": "python",
   "nbconvert_exporter": "python",
   "pygments_lexer": "ipython3",
   "version": "3.8.10"
  },
  "orig_nbformat": 4
 },
 "nbformat": 4,
 "nbformat_minor": 2
}
